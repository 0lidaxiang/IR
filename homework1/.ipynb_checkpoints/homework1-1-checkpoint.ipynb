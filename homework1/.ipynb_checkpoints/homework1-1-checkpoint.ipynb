{
 "cells": [
  {
   "cell_type": "code",
   "execution_count": 3,
   "metadata": {},
   "outputs": [
    {
     "name": "stdout",
     "output_type": "stream",
     "text": [
      "Write to file over.\n"
     ]
    }
   ],
   "source": [
    "import os  \n",
    "\n",
    "import collections  \n",
    "  \n",
    "path = \"./Document\" #文件夹目录  \n",
    "files= os.listdir(path) #得到文件夹下的所有文件名称  \n",
    "s = []  \n",
    "for file in files: #遍历文件夹  \n",
    "     if not os.path.isdir(file): #判断是否是文件夹，不是文件夹才打开  \n",
    "             \n",
    "          f = open(path+\"/\"+file); #打开文件  \n",
    "          iter_f = iter(f); #创建迭代器  \n",
    "          strtemp = \"\"  \n",
    "          lineNumber = 1\n",
    "          for line in iter_f: #遍历文件，一行行遍历，读取文本  \n",
    "              if lineNumber > 3:\n",
    "                  strtemp = strtemp + line  \n",
    "              else:\n",
    "                lineNumber = lineNumber + 1\n",
    "          s.append(strtemp) #每个文件的文本存到list中                         \n",
    "        \n",
    "''''' \n",
    "从文件中读取内容，统计词频 \n",
    "'''  \n",
    "def count_word(all_the_text):  \n",
    "    \n",
    "    all_the_text = \"\".join(str(x) for x in all_the_text)\n",
    "\n",
    "    result = {}  \n",
    "    #大写转小写  \n",
    "    all_the_text = all_the_text.lower()  \n",
    "    #正则表达式替换特殊字符  \n",
    "#     all_the_text = re.sub(\"\\\"|,|\\.\", \"\", all_the_text)  \n",
    "    for word in all_the_text.split():  \n",
    "#         print word\n",
    "        if word not in result:  \n",
    "            result[word] = 0 \n",
    "        result[word] += 1       \n",
    "    return result                   \n",
    "  \n",
    "''''' \n",
    "以词频倒序 \n",
    "'''  \n",
    "def sort_by_count(d):  \n",
    "    #字典排序  \n",
    "    d = collections.OrderedDict(sorted(d.items(), key = lambda t: -t[1]))  \n",
    "    return d  \n",
    "\n",
    "dword = count_word(s)  \n",
    "\n",
    "dword = sort_by_count(dword)\n",
    "\n",
    "del dword['-1']\n",
    "\n",
    "f = open('IR-Homework1-Result.txt', 'w')\n",
    "for key,value in dword.items():  \n",
    "#      print key.rjust(8) + \" : \"  + repr(value).rjust(6)\n",
    "#      f.write( key.rjust(8) + \" : \"  + repr(value).rjust(6) + \"\\n\")  # python will convert \\n to os.linesep\n",
    "      f.write(\"%-*s%-*s%-*s\"%(8,key, 4,\":\", 8,value) + \"\\n\")  # python will convert \\n to os.linesep\n",
    "    \n",
    "\n",
    "f.close() \n",
    "print \"Write to file over.\"\n"
   ]
  },
  {
   "cell_type": "code",
   "execution_count": 1,
   "metadata": {},
   "outputs": [
    {
     "ename": "SyntaxError",
     "evalue": "invalid syntax (<ipython-input-1-dadf23fb9eda>, line 1)",
     "output_type": "error",
     "traceback": [
      "\u001b[0;36m  File \u001b[0;32m\"<ipython-input-1-dadf23fb9eda>\"\u001b[0;36m, line \u001b[0;32m1\u001b[0m\n\u001b[0;31m    conda install configparser=3.5.0b2\u001b[0m\n\u001b[0m                ^\u001b[0m\n\u001b[0;31mSyntaxError\u001b[0m\u001b[0;31m:\u001b[0m invalid syntax\n"
     ]
    }
   ],
   "source": [
    "conda install configparser=3.5.0b2"
   ]
  },
  {
   "cell_type": "code",
   "execution_count": null,
   "metadata": {
    "collapsed": true
   },
   "outputs": [],
   "source": []
  }
 ],
 "metadata": {
  "kernelspec": {
   "display_name": "Python 2",
   "language": "python",
   "name": "python2"
  },
  "language_info": {
   "codemirror_mode": {
    "name": "ipython",
    "version": 2
   },
   "file_extension": ".py",
   "mimetype": "text/x-python",
   "name": "python",
   "nbconvert_exporter": "python",
   "pygments_lexer": "ipython2",
   "version": "2.7.13"
  }
 },
 "nbformat": 4,
 "nbformat_minor": 2
}
